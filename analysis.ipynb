{
 "cells": [
  {
   "cell_type": "code",
   "execution_count": null,
   "metadata": {},
   "outputs": [],
   "source": [
    "%load_ext autoreload\n",
    "%autoreload 2"
   ]
  },
  {
   "cell_type": "code",
   "execution_count": null,
   "metadata": {},
   "outputs": [],
   "source": [
    "import numpy as np\n",
    "import matplotlib.pyplot as plt\n",
    "import sys\n",
    "sys.path.append('lib')\n",
    "from lib.read_data import *\n",
    "import time\n",
    "import torch\n",
    "import torch.functional as F\n",
    "from model import *\n",
    "from sm_model import *\n",
    "torch.set_default_dtype(torch.float64)"
   ]
  },
  {
   "cell_type": "code",
   "execution_count": null,
   "metadata": {},
   "outputs": [],
   "source": [
    "N = 128\n",
    "DIM = 3\n",
    "outdir = f\"output/output_{DIM}D_{N}/checkpt_mixedBCs_M10_ritz1600_rhs800.tar\"\n",
    "# outdir = f\"output/output_single_2D_{N}/checkpt_frame_1_rhs_400_2D.tar\"\n",
    "checkpt = torch.load(outdir)"
   ]
  },
  {
   "cell_type": "code",
   "execution_count": null,
   "metadata": {},
   "outputs": [],
   "source": [
    "# for name in checkpt['model_state_dict']:\n",
    "#     print(name)"
   ]
  },
  {
   "cell_type": "code",
   "execution_count": null,
   "metadata": {},
   "outputs": [],
   "source": [
    "checkpt.keys()"
   ]
  },
  {
   "cell_type": "code",
   "execution_count": null,
   "metadata": {},
   "outputs": [],
   "source": [
    "checkpt['training_loss']"
   ]
  },
  {
   "cell_type": "code",
   "execution_count": null,
   "metadata": {},
   "outputs": [],
   "source": [
    "train_loss = checkpt['training_loss']\n",
    "valid_loss = checkpt['validation_loss']\n",
    "fig, axes = plt.subplots(2)\n",
    "axes[0].plot(train_loss, label='Training')\n",
    "axes[1].plot(valid_loss, label='Validation', c='orange')\n",
    "axes[0].legend()\n",
    "axes[1].legend()\n",
    "plt.savefig(\"train_loss.png\")\n",
    "plt.show()"
   ]
  },
  {
   "cell_type": "code",
   "execution_count": null,
   "metadata": {},
   "outputs": [],
   "source": [
    "model = SmallSMModelDn3D(3, 3)\n",
    "model.load_state_dict(checkpt['model_state_dict'])\n",
    "model = model.cuda()"
   ]
  },
  {
   "cell_type": "code",
   "execution_count": null,
   "metadata": {},
   "outputs": [],
   "source": [
    "N = 256\n",
    "frame = 1\n",
    "scene = 'dambreak'\n",
    "flags = read_flags(f\"data/{scene}_N{N}_200_3D/flags_{frame}.bin\")\n",
    "fluids = np.argwhere(flags == 2)\n",
    "air = np.argwhere(flags == 3)\n",
    "\n",
    "sol = load_vector(f\"data/{scene}_N{N}_200_3D/pressure_{frame}.bin\")\n",
    "rhs = load_vector(f\"data/{scene}_N{N}_200_3D/div_v_star_{frame}.bin\")"
   ]
  },
  {
   "cell_type": "code",
   "execution_count": null,
   "metadata": {},
   "outputs": [],
   "source": [
    "image = torch.load(f\"data/{scene}_N{N}_200_3D/preprocessed/{frame}/flags_binary_3.pt\", map_location='cuda').view((3,)+(N,)*DIM)"
   ]
  },
  {
   "cell_type": "code",
   "execution_count": null,
   "metadata": {},
   "outputs": [],
   "source": [
    "x = torch.rand((N,)*DIM).unsqueeze(0).unsqueeze(0).cuda()\n",
    "y = model(image, x)"
   ]
  },
  {
   "cell_type": "code",
   "execution_count": null,
   "metadata": {},
   "outputs": [],
   "source": [
    "b = torch.load(f\"data/dambreak_N{N}_200/preprocessed/{frame}/b_100_fourier.pt\")\n",
    "flags = torch.load(f\"data/dambreak_N{N}_200/preprocessed/{frame}/flags.pt\")"
   ]
  },
  {
   "cell_type": "code",
   "execution_count": null,
   "metadata": {},
   "outputs": [],
   "source": [
    "plt.imshow(b.numpy().reshape(N,N).T, origin='lower', cmap='jet')\n",
    "b.max(), b.min()"
   ]
  },
  {
   "cell_type": "code",
   "execution_count": null,
   "metadata": {},
   "outputs": [],
   "source": [
    "with torch.no_grad():\n",
    "    bb = torch.rand_like(b).reshape(1, 1, N, N).double()\n",
    "    y = model(flags.reshape(1, N, N).double(), b.reshape(1, 1, N, N).double())\n",
    "    y1 = model(flags.reshape(1, N, N).double(), bb.double())\n",
    "    s = 1.4*y.sum() + 2.2*y1.sum()\n",
    "    ss = model(flags.reshape(1, N, N).double(), (2.2*bb+1.4*b.reshape(1, 1, N, N)).double()).sum()\n",
    "s, ss"
   ]
  },
  {
   "cell_type": "code",
   "execution_count": null,
   "metadata": {},
   "outputs": [],
   "source": [
    "plt.imshow(y[0, 4].reshape(N, N).T, origin='lower', cmap='jet')\n",
    "plt.show()"
   ]
  },
  {
   "cell_type": "code",
   "execution_count": null,
   "metadata": {},
   "outputs": [],
   "source": [
    "fluid_cells = torch.argwhere(flags.reshape(N, N) == 2).tolist()\n",
    "fluid_cells"
   ]
  },
  {
   "cell_type": "code",
   "execution_count": null,
   "metadata": {},
   "outputs": [],
   "source": [
    "pos_x, pos_y = 240, 230\n",
    "print('cell in fluid:', [pos_x, pos_y] in fluid_cells)\n",
    "print('upper neighbor:', [pos_x, pos_y+1] in fluid_cells)\n",
    "print('lower neighbor:', [pos_x, pos_y-1] in fluid_cells)\n",
    "print('left neighbor:', [pos_x-1, pos_y] in fluid_cells)\n",
    "print('right neighbor:', [pos_x+1, pos_y] in fluid_cells)"
   ]
  },
  {
   "cell_type": "code",
   "execution_count": null,
   "metadata": {},
   "outputs": [],
   "source": [
    "y.squeeze().permute((1, 2, 0))[pos_x, pos_y].reshape(3, 3)"
   ]
  },
  {
   "cell_type": "code",
   "execution_count": null,
   "metadata": {},
   "outputs": [],
   "source": [
    "z = y[0].numpy()\n",
    "nc = 0\n",
    "zz = z[nc]\n",
    "print(zz.min(), zz.max())\n",
    "plt.imshow(zz.T, origin='lower', cmap='jet')\n",
    "plt.colorbar()\n",
    "plt.show()"
   ]
  },
  {
   "cell_type": "code",
   "execution_count": null,
   "metadata": {},
   "outputs": [],
   "source": [
    "i = 30\n",
    "r = np.load(f\"res_{i}.npy\")\n",
    "plt.clf()\n",
    "plt.imshow(abs(r).reshape(N,N).T, origin='lower', cmap='jet')\n",
    "plt.colorbar()\n",
    "plt.show()\n"
   ]
  },
  {
   "cell_type": "code",
   "execution_count": null,
   "metadata": {},
   "outputs": [],
   "source": [
    "scale = 2\n",
    "flags_up = flags.reshape(N,N).repeat(scale, axis=0).repeat(scale, axis=1)\n",
    "\n",
    "plt.imshow(flags_up.reshape(N*scale, N*scale).T, cmap='jet', origin='lower')\n",
    "plt.colorbar()\n",
    "plt.show()"
   ]
  },
  {
   "cell_type": "code",
   "execution_count": null,
   "metadata": {},
   "outputs": [],
   "source": [
    "np.save(f\"data/dambreak_single/{N}_{N*scale}/{frame}/flags_{frame}.npy\", flags_up.ravel())"
   ]
  },
  {
   "cell_type": "code",
   "execution_count": null,
   "metadata": {},
   "outputs": [],
   "source": [
    "from lib.discrete_laplacian import lap_with_bc, box_bd\n",
    "\n",
    "air = np.argwhere(flags_up.ravel() == 3).ravel()\n",
    "A = lap_with_bc(N*scale+2, 2, air=air, bd=box_bd(N*scale+2, 2), bd_padding=False)\n",
    "A"
   ]
  },
  {
   "cell_type": "code",
   "execution_count": null,
   "metadata": {},
   "outputs": [],
   "source": [
    "sparse.save_npz(f\"data/dambreak_single/{N}_{N*scale}/{frame}/A_{frame}.npz\", A)"
   ]
  },
  {
   "cell_type": "code",
   "execution_count": null,
   "metadata": {},
   "outputs": [],
   "source": []
  }
 ],
 "metadata": {
  "kernelspec": {
   "display_name": "pytorch",
   "language": "python",
   "name": "python3"
  },
  "language_info": {
   "codemirror_mode": {
    "name": "ipython",
    "version": 3
   },
   "file_extension": ".py",
   "mimetype": "text/x-python",
   "name": "python",
   "nbconvert_exporter": "python",
   "pygments_lexer": "ipython3",
   "version": "3.11.4"
  }
 },
 "nbformat": 4,
 "nbformat_minor": 2
}
