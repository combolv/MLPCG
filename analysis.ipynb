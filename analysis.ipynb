{
 "cells": [
  {
   "cell_type": "code",
   "execution_count": null,
   "metadata": {},
   "outputs": [],
   "source": [
    "%load_ext autoreload\n",
    "%autoreload 2"
   ]
  },
  {
   "cell_type": "code",
   "execution_count": null,
   "metadata": {},
   "outputs": [],
   "source": [
    "import numpy as np\n",
    "import matplotlib.pyplot as plt\n",
    "import sys\n",
    "sys.path.append('lib')\n",
    "from lib.read_data import *\n",
    "import time\n",
    "import torch\n",
    "import torch.functional as F\n",
    "from model import *\n",
    "from sm_model import *\n",
    "torch.set_default_dtype(torch.float64)"
   ]
  },
  {
   "cell_type": "code",
   "execution_count": null,
   "metadata": {},
   "outputs": [],
   "source": [
    "N = 128\n",
    "DIM = 3\n",
    "outdir = f\"output/output_{DIM}D_{N}/checkpt_mixedBCs_M11_ritz1600_rhs800_l5_trilinear.tar\"\n",
    "checkpt = torch.load(outdir)"
   ]
  },
  {
   "cell_type": "code",
   "execution_count": null,
   "metadata": {},
   "outputs": [],
   "source": [
    "train_loss = checkpt['training_loss']\n",
    "valid_loss = checkpt['validation_loss']\n",
    "fig, axes = plt.subplots(2)\n",
    "axes[0].plot(train_loss, label='Training')\n",
    "axes[1].plot(valid_loss, label='Validation', c='orange')\n",
    "axes[0].legend()\n",
    "axes[1].legend()\n",
    "plt.savefig(\"train_loss.png\")\n",
    "plt.show()"
   ]
  },
  {
   "cell_type": "code",
   "execution_count": null,
   "metadata": {},
   "outputs": [],
   "source": []
  }
 ],
 "metadata": {
  "kernelspec": {
   "display_name": "pytorch",
   "language": "python",
   "name": "python3"
  },
  "language_info": {
   "codemirror_mode": {
    "name": "ipython",
    "version": 3
   },
   "file_extension": ".py",
   "mimetype": "text/x-python",
   "name": "python",
   "nbconvert_exporter": "python",
   "pygments_lexer": "ipython3",
   "version": "3.11.4"
  }
 },
 "nbformat": 4,
 "nbformat_minor": 2
}
