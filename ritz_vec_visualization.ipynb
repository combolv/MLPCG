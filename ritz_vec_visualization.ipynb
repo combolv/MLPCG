{
 "cells": [
  {
   "cell_type": "code",
   "execution_count": null,
   "metadata": {},
   "outputs": [],
   "source": [
    "import numpy as np\n",
    "import matplotlib.pyplot as plt\n",
    "import sys\n",
    "sys.path.insert(1, 'lib')\n",
    "from lib.read_data import *"
   ]
  },
  {
   "cell_type": "code",
   "execution_count": null,
   "metadata": {},
   "outputs": [],
   "source": [
    "N = 1024\n",
    "frame = 23\n",
    "num_ritz = 1600\n",
    "path = f\"data/circles_solid_N{N}_200\"\n",
    "\n",
    "A = readA_sparse(f\"{path}/A_{frame}.bin\") #.astype(np.float32)\n",
    "# A = sparse.load_npz(f\"{path}/A_{frame}.npz\")\n",
    "rhs = load_vector(f\"{path}/div_v_star_{frame}.bin\") #.astype(np.float32)\n",
    "sol = load_vector(f\"{path}/pressure_{frame}.bin\") #.astype(np.float32)\n",
    "flags = read_flags(f\"{path}/flags_{frame}.bin\")\n",
    "# flags = np.load(f\"{path}/flags_{frame}.npy\")\n",
    "# ritz_vecs = np.load(f\"data/full_domain/N128/ritz_200.npy\")\n",
    "# ritz_vecs = np.load(f\"{path}/preprocessed/{frame}/fourier.npy\")\n",
    "ritz_vecs = np.load(f\"{path}/preprocessed/{frame}/ritz_{num_ritz}.npy\")"
   ]
  },
  {
   "cell_type": "code",
   "execution_count": null,
   "metadata": {},
   "outputs": [],
   "source": [
    "ritz_full = np.zeros(N*N)\n",
    "ritz_full[np.where(flags==2)] = ritz_vecs[1]\n",
    "\n",
    "plt.imshow(ritz_full.reshape(N,N).T, origin='lower', cmap='jet')"
   ]
  },
  {
   "cell_type": "code",
   "execution_count": null,
   "metadata": {},
   "outputs": [],
   "source": [
    "r = compressedVec(rhs, flags) - compressedMat(A, flags) @ compressedVec(sol, flags)\n",
    "np.linalg.norm(r)"
   ]
  },
  {
   "cell_type": "code",
   "execution_count": null,
   "metadata": {},
   "outputs": [],
   "source": [
    "# ritz_comp = ritz_vecs[:, np.argwhere(flags==2).ravel()]\n",
    "ritz_comp = ritz_vecs"
   ]
  },
  {
   "cell_type": "code",
   "execution_count": null,
   "metadata": {},
   "outputs": [],
   "source": [
    "eigs = compressedMat(A, flags) @ ritz_comp.T / ritz_comp.T\n",
    "eig = sorted(eigs[0])\n",
    "plt.scatter(range(len(eigs[0])), eig, s=10);"
   ]
  },
  {
   "cell_type": "code",
   "execution_count": null,
   "metadata": {},
   "outputs": [],
   "source": [
    "# path = f\"data/dambreak_N128_200\"\n",
    "# rhs = load_vector(f\"{path}/div_v_star_10.bin\")\n",
    "rhs_comp = compressedVec(rhs, flags)\n",
    "# rhs_comp = np.random.rand(*rhs_comp.shape)\n",
    "# rhs_comp = rhs_comp / np.linalg.norm(rhs_comp)\n",
    "coeffs = ritz_comp @ rhs_comp\n",
    "rhs_left = rhs_comp - coeffs @ ritz_comp\n",
    "np.linalg.norm(rhs_left)/np.linalg.norm(rhs_comp)"
   ]
  },
  {
   "cell_type": "code",
   "execution_count": null,
   "metadata": {},
   "outputs": [],
   "source": [
    "plt.plot(np.zeros(len(coeffs)), c='r')\n",
    "plt.scatter(range(len(coeffs)), coeffs, s=10);"
   ]
  },
  {
   "cell_type": "code",
   "execution_count": null,
   "metadata": {},
   "outputs": [],
   "source": [
    "import torch\n",
    "r = torch.load('r_52.pt').cpu().numpy()\n",
    "r_comp = compressedVec(r, flags)\n",
    "coeffs_r = ritz_vecs @ r_comp\n",
    "r_left = r_comp - coeffs @ ritz_vecs\n",
    "left_norm = np.linalg.norm(r_left)/np.linalg.norm(r_comp)\n",
    "print(left_norm)\n",
    "plt.plot(np.zeros(len(coeffs)), c='r')\n",
    "plt.scatter(range(len(coeffs)), coeffs_r, s=10)"
   ]
  },
  {
   "cell_type": "code",
   "execution_count": null,
   "metadata": {},
   "outputs": [],
   "source": [
    "for i in range(17):\n",
    "# i = 1\n",
    "    r = np.load(f\"res_{i}.npy\")\n",
    "    r_comp = compressedVec(r, flags)\n",
    "    coeffs_r = ritz_vecs @ r_comp\n",
    "    print(np.linalg.norm(coeffs_r), end=', ')\n",
    "    r_left = r_comp - coeffs @ ritz_vecs\n",
    "    left_norm = np.linalg.norm(r_left)/np.linalg.norm(r_comp)\n",
    "    print(left_norm)\n",
    "    # plt.plot(np.zeros(len(coeffs_r)), c='r')\n",
    "    # plt.scatter(range(len(coeffs_r)), coeffs_r, s=10)"
   ]
  },
  {
   "cell_type": "code",
   "execution_count": null,
   "metadata": {},
   "outputs": [],
   "source": []
  }
 ],
 "metadata": {
  "kernelspec": {
   "display_name": "pytorch",
   "language": "python",
   "name": "python3"
  },
  "language_info": {
   "codemirror_mode": {
    "name": "ipython",
    "version": 3
   },
   "file_extension": ".py",
   "mimetype": "text/x-python",
   "name": "python",
   "nbconvert_exporter": "python",
   "pygments_lexer": "ipython3",
   "version": "3.9.15"
  },
  "vscode": {
   "interpreter": {
    "hash": "165764575de29abc4aa156b62c4bcb7ffe5b9cb67255e2d0302f8c0139691f52"
   }
  }
 },
 "nbformat": 4,
 "nbformat_minor": 2
}
